{
 "cells": [
  {
   "cell_type": "code",
   "execution_count": null,
   "metadata": {},
   "outputs": [],
   "source": [
    "# countries"
   ]
  },
  {
   "cell_type": "code",
   "execution_count": 3,
   "metadata": {},
   "outputs": [],
   "source": [
    "import pandas as pd\n",
    "import matplotlib.pyplot as plt\n",
    "df = pd.read_csv(r'./datacamp-hcb-countries.csv')\n",
    "# , header = None"
   ]
  },
  {
   "cell_type": "code",
   "execution_count": 4,
   "metadata": {
    "scrolled": true
   },
   "outputs": [
    {
     "data": {
      "text/html": [
       "<div>\n",
       "<style scoped>\n",
       "    .dataframe tbody tr th:only-of-type {\n",
       "        vertical-align: middle;\n",
       "    }\n",
       "\n",
       "    .dataframe tbody tr th {\n",
       "        vertical-align: top;\n",
       "    }\n",
       "\n",
       "    .dataframe thead th {\n",
       "        text-align: right;\n",
       "    }\n",
       "</style>\n",
       "<table border=\"1\" class=\"dataframe\">\n",
       "  <thead>\n",
       "    <tr style=\"text-align: right;\">\n",
       "      <th></th>\n",
       "      <th>country;population;GDP total ($);GDP per capita;Gini;year;</th>\n",
       "    </tr>\n",
       "  </thead>\n",
       "  <tbody>\n",
       "    <tr>\n",
       "      <td>Russia;146 238 185;4 135 000 000 000    ;28 276    ;37</td>\n",
       "      <td>5;2020;</td>\n",
       "    </tr>\n",
       "    <tr>\n",
       "      <td>Poland;38 268 000;1 353 000 000 000    ;35 356    ;28</td>\n",
       "      <td>5;2020;</td>\n",
       "    </tr>\n",
       "    <tr>\n",
       "      <td>Czech Republic;10 707 839;432 346 000 000    ;40 377    ;35</td>\n",
       "      <td>4;2020;</td>\n",
       "    </tr>\n",
       "    <tr>\n",
       "      <td>Lithuania;2 793 694;107 000 000 000    ;38 301    ;35</td>\n",
       "      <td>2;2020;</td>\n",
       "    </tr>\n",
       "    <tr>\n",
       "      <td>Latvia;1 907 675;63 490 000 000    ;33 281    ;35</td>\n",
       "      <td>2;2020;</td>\n",
       "    </tr>\n",
       "    <tr>\n",
       "      <td>Estonia;1 329 460;49 644 000 000    ;37 341    ;30</td>\n",
       "      <td>5;2020;</td>\n",
       "    </tr>\n",
       "  </tbody>\n",
       "</table>\n",
       "</div>"
      ],
      "text/plain": [
       "                                                   country;population;GDP total ($);GDP per capita;Gini;year;\n",
       "Russia;146 238 185;4 135 000 000 000    ;28 276...                                            5;2020;        \n",
       "Poland;38 268 000;1 353 000 000 000    ;35 356 ...                                            5;2020;        \n",
       "Czech Republic;10 707 839;432 346 000 000    ;4...                                            4;2020;        \n",
       "Lithuania;2 793 694;107 000 000 000    ;38 301 ...                                            2;2020;        \n",
       "Latvia;1 907 675;63 490 000 000    ;33 281    ;35                                             2;2020;        \n",
       "Estonia;1 329 460;49 644 000 000    ;37 341    ;30                                            5;2020;        "
      ]
     },
     "execution_count": 4,
     "metadata": {},
     "output_type": "execute_result"
    }
   ],
   "source": [
    "df.head(10)"
   ]
  },
  {
   "cell_type": "code",
   "execution_count": null,
   "metadata": {},
   "outputs": [],
   "source": [
    "# zrób porządek z pierwszym row\n",
    "# może go usuń i zdefiniuj na nowo nazwy kolumn"
   ]
  },
  {
   "cell_type": "code",
   "execution_count": 11,
   "metadata": {},
   "outputs": [
    {
     "data": {
      "text/plain": [
       "Index(['country;population;GDP total ($);GDP per capita;Gini;year;'], dtype='object')"
      ]
     },
     "execution_count": 11,
     "metadata": {},
     "output_type": "execute_result"
    }
   ],
   "source": [
    "df.columns\n"
   ]
  },
  {
   "cell_type": "code",
   "execution_count": null,
   "metadata": {},
   "outputs": [],
   "source": [
    "# rób wizualizacje"
   ]
  },
  {
   "cell_type": "code",
   "execution_count": 24,
   "metadata": {},
   "outputs": [
    {
     "name": "stdout",
     "output_type": "stream",
     "text": [
      "country;population;GDP total ($);GDP per capita;Gini;year;\n",
      "Index(['country;population;GDP total ($);GDP per capita;Gini;year;'], dtype='object')\n"
     ]
    }
   ],
   "source": [
    "#countries = [df[\n",
    "countries = ()\n",
    "countries = df.columns\n",
    "for i in countries:\n",
    "    print(i)"
   ]
  },
  {
   "cell_type": "code",
   "execution_count": null,
   "metadata": {},
   "outputs": [],
   "source": []
  },
  {
   "cell_type": "code",
   "execution_count": null,
   "metadata": {},
   "outputs": [],
   "source": [
    "\n",
    "df.replace(\";\", \",\")"
   ]
  },
  {
   "cell_type": "code",
   "execution_count": null,
   "metadata": {},
   "outputs": [],
   "source": [
    "df.hear()"
   ]
  },
  {
   "cell_type": "code",
   "execution_count": null,
   "metadata": {},
   "outputs": [],
   "source": [
    "headers = [\"country\", \"population\", \"total GDP\", \"GDP per capita\", \"Gini\", \"year\"]\n",
    "df.columns=headers"
   ]
  },
  {
   "cell_type": "code",
   "execution_count": null,
   "metadata": {},
   "outputs": [],
   "source": []
  },
  {
   "cell_type": "code",
   "execution_count": null,
   "metadata": {},
   "outputs": [],
   "source": [
    "# intermediate Python DataCamp course"
   ]
  },
  {
   "cell_type": "code",
   "execution_count": 13,
   "metadata": {},
   "outputs": [
    {
     "data": {
      "image/png": "[encoded data removed]",
      "text/plain": [
       "<Figure size 432x288 with 1 Axes>"
      ]
     },
     "metadata": {
      "needs_background": "light"
     },
     "output_type": "display_data"
    }
   ],
   "source": [
    "# LINE PLOT\n",
    "import matplotlib.pyplot as plt\n",
    "population = [146238185, 38268000,10707839, 2793694, 1907675, 132946]\n",
    "GDP_total = [4135000000000, 1353000000000, 432346000000, 107000000000, \\\n",
    "63490000000, 49644000000 ]\n",
    "plt.plot(population, GDP_total)\n",
    "plt.show()\n"
   ]
  },
  {
   "cell_type": "code",
   "execution_count": 14,
   "metadata": {},
   "outputs": [
    {
     "data": {
      "image/png": "[encoded data removed]",
      "text/plain": [
       "<Figure size 432x288 with 1 Axes>"
      ]
     },
     "metadata": {
      "needs_background": "light"
     },
     "output_type": "display_data"
    }
   ],
   "source": [
    "plt.xscale('log')\n",
    "plt.show()"
   ]
  },
  {
   "cell_type": "code",
   "execution_count": 11,
   "metadata": {},
   "outputs": [
    {
     "data": {
      "image/png": "[encoded data removed]",
      "text/plain": [
       "<Figure size 432x288 with 1 Axes>"
      ]
     },
     "metadata": {
      "needs_background": "light"
     },
     "output_type": "display_data"
    }
   ],
   "source": [
    "# SCATTER PLOT\n",
    "import matplotlib.pyplot as plt\n",
    "population = [146238185, 38268000,10707839, 2793694, 1907675, 132946]\n",
    "GDP_total = [4135000000000, 1353000000000, 432346000000, 107000000000, \\\n",
    "63490000000, 49644000000 ]\n",
    "plt.scatter(population, GDP_total)\n",
    "plt.show()\n"
   ]
  },
  {
   "cell_type": "code",
   "execution_count": null,
   "metadata": {},
   "outputs": [],
   "source": []
  }
 ],
 "metadata": {
  "kernelspec": {
   "display_name": "Python 3",
   "language": "python",
   "name": "python3"
  },
  "language_info": {
   "codemirror_mode": {
    "name": "ipython",
    "version": 3
   },
   "file_extension": ".py",
   "mimetype": "text/x-python",
   "name": "python",
   "nbconvert_exporter": "python",
   "pygments_lexer": "ipython3",
   "version": "3.7.4"
  }
 },
 "nbformat": 4,
 "nbformat_minor": 4
}
