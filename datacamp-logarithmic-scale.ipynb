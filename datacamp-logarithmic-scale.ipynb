{
 "cells": [
  {
   "cell_type": "code",
   "execution_count": 1,
   "metadata": {},
   "outputs": [],
   "source": [
    "# logarithmic scale\n",
    "# https://www.bmc.com/blogs/matplotlib-logarithmic-scale/"
   ]
  },
  {
   "cell_type": "code",
   "execution_count": 3,
   "metadata": {
    "scrolled": true
   },
   "outputs": [
    {
     "data": {
      "image/png": "[encoded data removed]",
      "text/plain": [
       "<Figure size 432x288 with 1 Axes>"
      ]
     },
     "metadata": {
      "needs_background": "light"
     },
     "output_type": "display_data"
    }
   ],
   "source": [
    "import matplotlib.pyplot as plt\n",
    "import numpy as np\n",
    "import matplotlib.pyplot as plt\n",
    "import numpy as np\n",
    "import pandas as pd\n",
    "\n",
    "data = { \n",
    "        \"Pete's\":           600000,\n",
    "        \"Clock\":           1600000,\n",
    "        \"Buckey's BBQ\":    2600000,\n",
    "        \"Pepsi\":        6466000000,\n",
    "        \"Intel\" :      70848000000,\t\n",
    "        \"Alphabet\":    136819000000,\n",
    "        \"Amazon\":      232887000000\t\n",
    "        }\n",
    "        \n",
    "df = pd.DataFrame.from_dict(data,orient='index',columns=['Revenue'])\n",
    "dg =pd.to_numeric(df['Revenue'])\n",
    "dc = pd.Series(dg.index.values.tolist()).to_frame('Company') \n",
    "dat = df.assign(Company=dc.values)\n",
    "data = dat.sort_values(by=['Revenue'])\n",
    "\n",
    "plt.scatter(data['Revenue'],data['Company'])\n",
    "plt.grid()\n",
    "\n",
    "#plt.show()"
   ]
  },
  {
   "cell_type": "code",
   "execution_count": 5,
   "metadata": {},
   "outputs": [
    {
     "data": {
      "image/png": "[encoded data removed]",
      "text/plain": [
       "<Figure size 432x288 with 1 Axes>"
      ]
     },
     "metadata": {
      "needs_background": "light"
     },
     "output_type": "display_data"
    }
   ],
   "source": [
    "import matplotlib.pyplot as plt\n",
    "import numpy as np\n",
    "import pandas as pd\n",
    "\n",
    "data = { \n",
    "        \"Pete's\":           600000,\n",
    "        \"Clock\":           1600000,\n",
    "        \"Buckey's BBQ\":    2600000,\n",
    "        \"Pepsi\":        6466000000,\n",
    "        \"Intel\" :      70848000000,\t\n",
    "        \"Alphabet\":    136819000000,\n",
    "        \"Amazon\":      232887000000\t\n",
    "        }\n",
    "        \n",
    "df = pd.DataFrame.from_dict(data,orient='index',columns=['Revenue'])\n",
    "dg =pd.to_numeric(df['Revenue'])\n",
    "dc = pd.Series(dg.index.values.tolist()).to_frame('Company') \n",
    "dat = df.assign(Company=dc.values)\n",
    "\n",
    "data = dat.sort_values(by=['Revenue'])\n",
    " \n",
    "plt.scatter(data['Revenue'],data['Company'])\n",
    "plt.grid()\n",
    "plt.xscale(\"log\")\n",
    "\n",
    "#plt.show()"
   ]
  },
  {
   "cell_type": "code",
   "execution_count": null,
   "metadata": {},
   "outputs": [],
   "source": []
  }
 ],
 "metadata": {
  "kernelspec": {
   "display_name": "Python 3",
   "language": "python",
   "name": "python3"
  },
  "language_info": {
   "codemirror_mode": {
    "name": "ipython",
    "version": 3
   },
   "file_extension": ".py",
   "mimetype": "text/x-python",
   "name": "python",
   "nbconvert_exporter": "python",
   "pygments_lexer": "ipython3",
   "version": "3.7.4"
  }
 },
 "nbformat": 4,
 "nbformat_minor": 2
}
